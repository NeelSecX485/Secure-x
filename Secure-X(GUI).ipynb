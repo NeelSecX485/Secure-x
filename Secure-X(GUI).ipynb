{
 "cells": [
  {
   "cell_type": "code",
   "execution_count": 1,
   "id": "e49e0648",
   "metadata": {},
   "outputs": [],
   "source": [
    "import tkinter as tk\n",
    "from tkinter import messagebox\n",
    "import pandas as pd\n",
    "from sklearn.feature_extraction.text import TfidfVectorizer\n",
    "from sklearn.svm import LinearSVC\n",
    "from sklearn.model_selection import train_test_split"
   ]
  },
  {
   "cell_type": "code",
   "execution_count": 2,
   "id": "e6e51620",
   "metadata": {},
   "outputs": [
    {
     "data": {
      "text/plain": [
       "LinearSVC()"
      ]
     },
     "execution_count": 2,
     "metadata": {},
     "output_type": "execute_result"
    }
   ],
   "source": [
    "data = pd.read_csv('phishing_site_urls.csv')\n",
    "X = data['url']\n",
    "y = data['label']\n",
    "X_train, X_test, y_train, y_test = train_test_split(X, y, test_size=0.2)\n",
    "vectorizer = TfidfVectorizer()\n",
    "X_train_vectors = vectorizer.fit_transform(X_train)\n",
    "X_test_vectors = vectorizer.transform(X_test)\n",
    "classifier = LinearSVC()\n",
    "classifier.fit(X_train_vectors, y_train)"
   ]
  },
  {
   "cell_type": "code",
   "execution_count": 3,
   "id": "7d73f7c9",
   "metadata": {},
   "outputs": [],
   "source": [
    "def is_phishing_url(url):\n",
    "    url_vector = vectorizer.transform([url])\n",
    "    prediction = classifier.predict(url_vector)\n",
    "    return prediction[0] == 'phishing'"
   ]
  },
  {
   "cell_type": "code",
   "execution_count": null,
   "id": "7510c2d2",
   "metadata": {},
   "outputs": [],
   "source": [
    "def check_url():\n",
    "    url = url_entry.get()\n",
    "    if url:\n",
    "        if is_phishing_url(url):\n",
    "            messagebox.showinfo(\"Result\", f\"{url} is a phishing URL\")\n",
    "        else:\n",
    "            messagebox.showinfo(\"Result\", f\"{url} is not a phishing URL\")\n",
    "\n",
    "# Create the main application window\n",
    "app = tk.Tk()\n",
    "app.title(\"Phishing URL Checker\")\n",
    "app.geometry(\"500x300\")  # Set the window size\n",
    "\n",
    "# Create GUI elements\n",
    "url_label = tk.Label(app, text=\"Enter URL:\")\n",
    "url_entry = tk.Entry(app, width=40)\n",
    "check_button = tk.Button(app, text=\"Check\", command=check_url)\n",
    "\n",
    "# Create a label for credits\n",
    "credits_label = tk.Label(app, text=\"Made by Neelabh Shrivastava\", font=(\"Arial\", 10), pady=10)\n",
    "\n",
    "# Arrange GUI elements\n",
    "url_label.pack()\n",
    "url_entry.pack()\n",
    "check_button.pack()\n",
    "credits_label.pack()\n",
    "\n",
    "# Start the Tkinter main loop\n",
    "app.mainloop()"
   ]
  },
  {
   "cell_type": "code",
   "execution_count": null,
   "id": "7c188235",
   "metadata": {},
   "outputs": [],
   "source": []
  }
 ],
 "metadata": {
  "kernelspec": {
   "display_name": "Python 3 (ipykernel)",
   "language": "python",
   "name": "python3"
  },
  "language_info": {
   "codemirror_mode": {
    "name": "ipython",
    "version": 3
   },
   "file_extension": ".py",
   "mimetype": "text/x-python",
   "name": "python",
   "nbconvert_exporter": "python",
   "pygments_lexer": "ipython3",
   "version": "3.9.13"
  }
 },
 "nbformat": 4,
 "nbformat_minor": 5
}
